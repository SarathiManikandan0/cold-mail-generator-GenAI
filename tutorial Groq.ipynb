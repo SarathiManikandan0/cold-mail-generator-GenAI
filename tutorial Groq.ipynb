{
 "cells": [
  {
   "cell_type": "markdown",
   "id": "a75857d4",
   "metadata": {},
   "source": [
    "LINK: https://www.youtube.com/watch?v=CO4E_9V6li0"
   ]
  },
  {
   "cell_type": "code",
   "execution_count": 2,
   "id": "4b6d906e",
   "metadata": {},
   "outputs": [
    {
     "name": "stdout",
     "output_type": "stream",
     "text": [
      "Note: you may need to restart the kernel to use updated packages.\n"
     ]
    }
   ],
   "source": [
    "pip install -qU langchain-groq\n"
   ]
  },
  {
   "cell_type": "code",
   "execution_count": 6,
   "id": "abd3843b",
   "metadata": {},
   "outputs": [
    {
     "name": "stdout",
     "output_type": "stream",
     "text": [
      "The first person to set foot on the moon was Neil Armstrong. He stepped out of the lunar module Eagle and onto the moon's surface on July 20, 1969, during the Apollo 11 mission. Armstrong famously declared, \"That's one small step for man, one giant leap for mankind,\" as he became the first human to walk on the moon.\n"
     ]
    }
   ],
   "source": [
    "from langchain_groq import ChatGroq\n",
    "\n",
    "llm = ChatGroq(\n",
    "    model=\"llama-3.1-70b-versatile\",\n",
    "    temperature=0,\n",
    "    groq_api_key='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'\n",
    "  \n",
    ")\n",
    "response = llm.invoke(\"The first person on the moon was\")\n",
    "print(response.content)"
   ]
  },
  {
   "cell_type": "code",
   "execution_count": 7,
   "id": "6148d4a7",
   "metadata": {},
   "outputs": [
    {
     "name": "stdout",
     "output_type": "stream",
     "text": [
      "Defaulting to user installation because normal site-packages is not writeable\n",
      "Requirement already satisfied: chromadb in /home/mission1/.local/lib/python3.10/site-packages (0.5.5)\n",
      "Requirement already satisfied: onnxruntime>=1.14.1 in /home/mission1/.local/lib/python3.10/site-packages (from chromadb) (1.19.0)\n",
      "Requirement already satisfied: pydantic>=1.9 in /home/mission1/.local/lib/python3.10/site-packages (from chromadb) (2.10.4)\n",
      "Requirement already satisfied: tenacity>=8.2.3 in /home/mission1/.local/lib/python3.10/site-packages (from chromadb) (8.5.0)\n",
      "Requirement already satisfied: orjson>=3.9.12 in /home/mission1/.local/lib/python3.10/site-packages (from chromadb) (3.10.7)\n",
      "Requirement already satisfied: mmh3>=4.0.1 in /home/mission1/.local/lib/python3.10/site-packages (from chromadb) (4.1.0)\n",
      "Requirement already satisfied: kubernetes>=28.1.0 in /home/mission1/.local/lib/python3.10/site-packages (from chromadb) (30.1.0)\n",
      "Requirement already satisfied: tqdm>=4.65.0 in /home/mission1/.local/lib/python3.10/site-packages (from chromadb) (4.66.2)\n",
      "Requirement already satisfied: uvicorn[standard]>=0.18.3 in /home/mission1/.local/lib/python3.10/site-packages (from chromadb) (0.30.6)\n",
      "Requirement already satisfied: opentelemetry-sdk>=1.2.0 in /home/mission1/.local/lib/python3.10/site-packages (from chromadb) (1.26.0)\n",
      "Requirement already satisfied: typing-extensions>=4.5.0 in /home/mission1/.local/lib/python3.10/site-packages (from chromadb) (4.12.2)\n",
      "Requirement already satisfied: overrides>=7.3.1 in /home/mission1/.local/lib/python3.10/site-packages (from chromadb) (7.7.0)\n",
      "Requirement already satisfied: opentelemetry-exporter-otlp-proto-grpc>=1.2.0 in /home/mission1/.local/lib/python3.10/site-packages (from chromadb) (1.26.0)\n",
      "Requirement already satisfied: posthog>=2.4.0 in /home/mission1/.local/lib/python3.10/site-packages (from chromadb) (3.5.2)\n",
      "Requirement already satisfied: importlib-resources in /home/mission1/.local/lib/python3.10/site-packages (from chromadb) (6.4.4)\n",
      "Requirement already satisfied: grpcio>=1.58.0 in /home/mission1/.local/lib/python3.10/site-packages (from chromadb) (1.66.0)\n",
      "Requirement already satisfied: chroma-hnswlib==0.7.6 in /home/mission1/.local/lib/python3.10/site-packages (from chromadb) (0.7.6)\n",
      "Requirement already satisfied: numpy<2.0.0,>=1.22.5 in /home/mission1/.local/lib/python3.10/site-packages (from chromadb) (1.23.5)\n",
      "Requirement already satisfied: tokenizers>=0.13.2 in /home/mission1/.local/lib/python3.10/site-packages (from chromadb) (0.21.0)\n",
      "Requirement already satisfied: PyYAML>=6.0.0 in /home/mission1/.local/lib/python3.10/site-packages (from chromadb) (6.0.2)\n",
      "Requirement already satisfied: opentelemetry-instrumentation-fastapi>=0.41b0 in /home/mission1/.local/lib/python3.10/site-packages (from chromadb) (0.47b0)\n",
      "Requirement already satisfied: build>=1.0.3 in /home/mission1/.local/lib/python3.10/site-packages (from chromadb) (1.2.1)\n",
      "Requirement already satisfied: pypika>=0.48.9 in /home/mission1/.local/lib/python3.10/site-packages (from chromadb) (0.48.9)\n",
      "Requirement already satisfied: httpx>=0.27.0 in /home/mission1/.local/lib/python3.10/site-packages (from chromadb) (0.27.0)\n",
      "Requirement already satisfied: bcrypt>=4.0.1 in /home/mission1/.local/lib/python3.10/site-packages (from chromadb) (4.2.0)\n",
      "Requirement already satisfied: typer>=0.9.0 in /home/mission1/.local/lib/python3.10/site-packages (from chromadb) (0.12.5)\n",
      "Requirement already satisfied: opentelemetry-api>=1.2.0 in /home/mission1/.local/lib/python3.10/site-packages (from chromadb) (1.26.0)\n",
      "Requirement already satisfied: fastapi>=0.95.2 in /home/mission1/.local/lib/python3.10/site-packages (from chromadb) (0.112.2)\n",
      "Requirement already satisfied: pyproject_hooks in /home/mission1/.local/lib/python3.10/site-packages (from build>=1.0.3->chromadb) (1.1.0)\n",
      "Requirement already satisfied: packaging>=19.1 in /home/mission1/.local/lib/python3.10/site-packages (from build>=1.0.3->chromadb) (24.1)\n",
      "Requirement already satisfied: tomli>=1.1.0 in /home/mission1/.local/lib/python3.10/site-packages (from build>=1.0.3->chromadb) (2.0.1)\n",
      "Requirement already satisfied: starlette<0.39.0,>=0.37.2 in /home/mission1/.local/lib/python3.10/site-packages (from fastapi>=0.95.2->chromadb) (0.38.2)\n",
      "Requirement already satisfied: httpcore==1.* in /home/mission1/.local/lib/python3.10/site-packages (from httpx>=0.27.0->chromadb) (1.0.5)\n",
      "Requirement already satisfied: idna in /home/mission1/.local/lib/python3.10/site-packages (from httpx>=0.27.0->chromadb) (2.8)\n",
      "Requirement already satisfied: anyio in /home/mission1/.local/lib/python3.10/site-packages (from httpx>=0.27.0->chromadb) (4.4.0)\n",
      "Requirement already satisfied: certifi in /usr/lib/python3/dist-packages (from httpx>=0.27.0->chromadb) (2020.6.20)\n",
      "Requirement already satisfied: sniffio in /home/mission1/.local/lib/python3.10/site-packages (from httpx>=0.27.0->chromadb) (1.3.1)\n",
      "Requirement already satisfied: h11<0.15,>=0.13 in /home/mission1/.local/lib/python3.10/site-packages (from httpcore==1.*->httpx>=0.27.0->chromadb) (0.14.0)\n",
      "Requirement already satisfied: requests in /home/mission1/.local/lib/python3.10/site-packages (from kubernetes>=28.1.0->chromadb) (2.32.3)\n",
      "Requirement already satisfied: requests-oauthlib in /home/mission1/.local/lib/python3.10/site-packages (from kubernetes>=28.1.0->chromadb) (1.3.1)\n",
      "Requirement already satisfied: six>=1.9.0 in /usr/lib/python3/dist-packages (from kubernetes>=28.1.0->chromadb) (1.16.0)\n",
      "Requirement already satisfied: google-auth>=1.0.1 in /home/mission1/.local/lib/python3.10/site-packages (from kubernetes>=28.1.0->chromadb) (2.20.0)\n",
      "Requirement already satisfied: websocket-client!=0.40.0,!=0.41.*,!=0.42.*,>=0.32.0 in /home/mission1/.local/lib/python3.10/site-packages (from kubernetes>=28.1.0->chromadb) (1.8.0)\n",
      "Requirement already satisfied: python-dateutil>=2.5.3 in /home/mission1/.local/lib/python3.10/site-packages (from kubernetes>=28.1.0->chromadb) (2.8.2)\n",
      "Requirement already satisfied: oauthlib>=3.2.2 in /home/mission1/.local/lib/python3.10/site-packages (from kubernetes>=28.1.0->chromadb) (3.2.2)\n",
      "Requirement already satisfied: urllib3>=1.24.2 in /home/mission1/.local/lib/python3.10/site-packages (from kubernetes>=28.1.0->chromadb) (1.26.19)\n",
      "Requirement already satisfied: protobuf in /home/mission1/.local/lib/python3.10/site-packages (from onnxruntime>=1.14.1->chromadb) (4.25.4)\n",
      "Requirement already satisfied: coloredlogs in /home/mission1/.local/lib/python3.10/site-packages (from onnxruntime>=1.14.1->chromadb) (15.0.1)\n",
      "Requirement already satisfied: sympy in /usr/lib/python3/dist-packages (from onnxruntime>=1.14.1->chromadb) (1.9)\n",
      "Requirement already satisfied: flatbuffers in /home/mission1/.local/lib/python3.10/site-packages (from onnxruntime>=1.14.1->chromadb) (23.5.26)\n",
      "Requirement already satisfied: deprecated>=1.2.6 in /home/mission1/.local/lib/python3.10/site-packages (from opentelemetry-api>=1.2.0->chromadb) (1.2.14)\n",
      "Requirement already satisfied: importlib-metadata<=8.0.0,>=6.0 in /home/mission1/.local/lib/python3.10/site-packages (from opentelemetry-api>=1.2.0->chromadb) (8.0.0)\n",
      "Requirement already satisfied: opentelemetry-proto==1.26.0 in /home/mission1/.local/lib/python3.10/site-packages (from opentelemetry-exporter-otlp-proto-grpc>=1.2.0->chromadb) (1.26.0)\n",
      "Requirement already satisfied: googleapis-common-protos~=1.52 in /home/mission1/.local/lib/python3.10/site-packages (from opentelemetry-exporter-otlp-proto-grpc>=1.2.0->chromadb) (1.63.2)\n",
      "Requirement already satisfied: opentelemetry-exporter-otlp-proto-common==1.26.0 in /home/mission1/.local/lib/python3.10/site-packages (from opentelemetry-exporter-otlp-proto-grpc>=1.2.0->chromadb) (1.26.0)\n",
      "Requirement already satisfied: opentelemetry-instrumentation-asgi==0.47b0 in /home/mission1/.local/lib/python3.10/site-packages (from opentelemetry-instrumentation-fastapi>=0.41b0->chromadb) (0.47b0)\n",
      "Requirement already satisfied: opentelemetry-util-http==0.47b0 in /home/mission1/.local/lib/python3.10/site-packages (from opentelemetry-instrumentation-fastapi>=0.41b0->chromadb) (0.47b0)\n",
      "Requirement already satisfied: opentelemetry-instrumentation==0.47b0 in /home/mission1/.local/lib/python3.10/site-packages (from opentelemetry-instrumentation-fastapi>=0.41b0->chromadb) (0.47b0)\n",
      "Requirement already satisfied: opentelemetry-semantic-conventions==0.47b0 in /home/mission1/.local/lib/python3.10/site-packages (from opentelemetry-instrumentation-fastapi>=0.41b0->chromadb) (0.47b0)\n"
     ]
    },
    {
     "name": "stdout",
     "output_type": "stream",
     "text": [
      "Requirement already satisfied: wrapt<2.0.0,>=1.0.0 in /home/mission1/.local/lib/python3.10/site-packages (from opentelemetry-instrumentation==0.47b0->opentelemetry-instrumentation-fastapi>=0.41b0->chromadb) (1.14.1)\n",
      "Requirement already satisfied: setuptools>=16.0 in /usr/lib/python3/dist-packages (from opentelemetry-instrumentation==0.47b0->opentelemetry-instrumentation-fastapi>=0.41b0->chromadb) (59.6.0)\n",
      "Requirement already satisfied: asgiref~=3.0 in /home/mission1/.local/lib/python3.10/site-packages (from opentelemetry-instrumentation-asgi==0.47b0->opentelemetry-instrumentation-fastapi>=0.41b0->chromadb) (3.7.2)\n",
      "Requirement already satisfied: monotonic>=1.5 in /usr/lib/python3/dist-packages (from posthog>=2.4.0->chromadb) (1.6)\n",
      "Requirement already satisfied: backoff>=1.10.0 in /home/mission1/.local/lib/python3.10/site-packages (from posthog>=2.4.0->chromadb) (2.2.1)\n",
      "Requirement already satisfied: pydantic-core==2.27.2 in /home/mission1/.local/lib/python3.10/site-packages (from pydantic>=1.9->chromadb) (2.27.2)\n",
      "Requirement already satisfied: annotated-types>=0.6.0 in /home/mission1/.local/lib/python3.10/site-packages (from pydantic>=1.9->chromadb) (0.7.0)\n",
      "Requirement already satisfied: huggingface-hub<1.0,>=0.16.4 in /home/mission1/.local/lib/python3.10/site-packages (from tokenizers>=0.13.2->chromadb) (0.24.6)\n",
      "Requirement already satisfied: rich>=10.11.0 in /home/mission1/.local/lib/python3.10/site-packages (from typer>=0.9.0->chromadb) (13.4.2)\n",
      "Requirement already satisfied: shellingham>=1.3.0 in /home/mission1/.local/lib/python3.10/site-packages (from typer>=0.9.0->chromadb) (1.5.4)\n",
      "Requirement already satisfied: click>=8.0.0 in /home/mission1/.local/lib/python3.10/site-packages (from typer>=0.9.0->chromadb) (8.1.7)\n",
      "Requirement already satisfied: watchfiles>=0.13 in /home/mission1/.local/lib/python3.10/site-packages (from uvicorn[standard]>=0.18.3->chromadb) (0.23.0)\n",
      "Requirement already satisfied: uvloop!=0.15.0,!=0.15.1,>=0.14.0 in /home/mission1/.local/lib/python3.10/site-packages (from uvicorn[standard]>=0.18.3->chromadb) (0.20.0)\n",
      "Requirement already satisfied: websockets>=10.4 in /home/mission1/.local/lib/python3.10/site-packages (from uvicorn[standard]>=0.18.3->chromadb) (13.0)\n",
      "Requirement already satisfied: httptools>=0.5.0 in /home/mission1/.local/lib/python3.10/site-packages (from uvicorn[standard]>=0.18.3->chromadb) (0.6.1)\n",
      "Requirement already satisfied: python-dotenv>=0.13 in /home/mission1/.local/lib/python3.10/site-packages (from uvicorn[standard]>=0.18.3->chromadb) (1.0.1)\n",
      "Requirement already satisfied: rsa<5,>=3.1.4 in /home/mission1/.local/lib/python3.10/site-packages (from google-auth>=1.0.1->kubernetes>=28.1.0->chromadb) (4.9)\n",
      "Requirement already satisfied: cachetools<6.0,>=2.0.0 in /home/mission1/.local/lib/python3.10/site-packages (from google-auth>=1.0.1->kubernetes>=28.1.0->chromadb) (5.3.1)\n",
      "Requirement already satisfied: pyasn1-modules>=0.2.1 in /home/mission1/.local/lib/python3.10/site-packages (from google-auth>=1.0.1->kubernetes>=28.1.0->chromadb) (0.3.0)\n",
      "Requirement already satisfied: fsspec>=2023.5.0 in /home/mission1/.local/lib/python3.10/site-packages (from huggingface-hub<1.0,>=0.16.4->tokenizers>=0.13.2->chromadb) (2024.6.1)\n",
      "Requirement already satisfied: filelock in /home/mission1/.local/lib/python3.10/site-packages (from huggingface-hub<1.0,>=0.16.4->tokenizers>=0.13.2->chromadb) (3.12.2)\n",
      "Requirement already satisfied: zipp>=0.5 in /usr/lib/python3/dist-packages (from importlib-metadata<=8.0.0,>=6.0->opentelemetry-api>=1.2.0->chromadb) (1.0.0)\n",
      "Requirement already satisfied: charset-normalizer<4,>=2 in /home/mission1/.local/lib/python3.10/site-packages (from requests->kubernetes>=28.1.0->chromadb) (3.1.0)\n",
      "Requirement already satisfied: pygments<3.0.0,>=2.13.0 in /home/mission1/.local/lib/python3.10/site-packages (from rich>=10.11.0->typer>=0.9.0->chromadb) (2.15.1)\n",
      "Requirement already satisfied: markdown-it-py>=2.2.0 in /home/mission1/.local/lib/python3.10/site-packages (from rich>=10.11.0->typer>=0.9.0->chromadb) (3.0.0)\n",
      "Requirement already satisfied: exceptiongroup>=1.0.2 in /home/mission1/.local/lib/python3.10/site-packages (from anyio->httpx>=0.27.0->chromadb) (1.2.2)\n",
      "Requirement already satisfied: humanfriendly>=9.1 in /home/mission1/.local/lib/python3.10/site-packages (from coloredlogs->onnxruntime>=1.14.1->chromadb) (10.0)\n",
      "Requirement already satisfied: mdurl~=0.1 in /home/mission1/.local/lib/python3.10/site-packages (from markdown-it-py>=2.2.0->rich>=10.11.0->typer>=0.9.0->chromadb) (0.1.2)\n",
      "Requirement already satisfied: pyasn1<0.6.0,>=0.4.6 in /home/mission1/.local/lib/python3.10/site-packages (from pyasn1-modules>=0.2.1->google-auth>=1.0.1->kubernetes>=28.1.0->chromadb) (0.5.0)\n",
      "Note: you may need to restart the kernel to use updated packages.\n"
     ]
    }
   ],
   "source": [
    "pip install chromadb\n"
   ]
  },
  {
   "cell_type": "code",
   "execution_count": null,
   "id": "4332887b",
   "metadata": {},
   "outputs": [],
   "source": []
  }
 ],
 "metadata": {
  "kernelspec": {
   "display_name": "Python 3 (ipykernel)",
   "language": "python",
   "name": "python3"
  },
  "language_info": {
   "codemirror_mode": {
    "name": "ipython",
    "version": 3
   },
   "file_extension": ".py",
   "mimetype": "text/x-python",
   "name": "python",
   "nbconvert_exporter": "python",
   "pygments_lexer": "ipython3",
   "version": "3.10.12"
  }
 },
 "nbformat": 4,
 "nbformat_minor": 5
}
